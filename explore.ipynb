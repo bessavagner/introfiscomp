{
 "cells": [
  {
   "cell_type": "code",
   "execution_count": 1,
   "metadata": {},
   "outputs": [],
   "source": [
    "%load_ext autoreload\n",
    "%autoreload 2"
   ]
  },
  {
   "cell_type": "code",
   "execution_count": 2,
   "metadata": {},
   "outputs": [],
   "source": [
    "from pathlib import Path\n",
    "from app.articles.processors import DocumentProcessor"
   ]
  },
  {
   "cell_type": "code",
   "execution_count": null,
   "metadata": {},
   "outputs": [],
   "source": [
    "BASE_STATIC = \"static/articles/\"\n",
    "BASE_TEMPLATES = \"templates/\"\n",
    "base = BASE_STATIC  # BASE_TEMPLATES\n",
    "articles_path = Path(base)\n",
    "for folder in articles_path.glob('**/*/'):\n",
    "    for item in folder.glob('**/*'):\n",
    "        title = item.relative_to(base).with_suffix('').parent\n",
    "        path = \"/\" / item.relative_to(base).with_suffix('')\n",
    "        print(f\"{title}: {path}\")"
   ]
  },
  {
   "cell_type": "code",
   "execution_count": 21,
   "metadata": {},
   "outputs": [],
   "source": [
    "from build import process_context\n",
    "from build import process_articles\n",
    "data = process_context()\n",
    "process_articles()"
   ]
  },
  {
   "cell_type": "code",
   "execution_count": 8,
   "metadata": {},
   "outputs": [
    {
     "data": {
      "text/plain": [
       "{'index': {'01': {'algoritimos': [{'subtitle': 'Estruturas de dados',\n",
       "     'path': '/01_algoritimos/02_estruturas-de-dados'},\n",
       "    {'subtitle': 'Algorítimos e estruturas de execução',\n",
       "     'path': '/01_algoritimos/01_algorítimos-e-estruturas-de-execução'}]},\n",
       "  '02': {'python': [{'subtitle': 'Variaveis e tipos de dados',\n",
       "     'path': '/02_python/01_variaveis-e-tipos-de-dados'},\n",
       "    {'subtitle': 'Introdução', 'path': '/02_python/01_introdução'},\n",
       "    {'subtitle': 'Funções, condicionais e laços',\n",
       "     'path': '/02_python/03_funções,-condicionais-e-laços'}]}}}"
      ]
     },
     "execution_count": 8,
     "metadata": {},
     "output_type": "execute_result"
    }
   ],
   "source": [
    "data"
   ]
  },
  {
   "cell_type": "code",
   "execution_count": 8,
   "metadata": {},
   "outputs": [],
   "source": [
    "folder_path = Path(\"static/articles/01_algoritimos/\")\n",
    "output = folder_path.with_suffix('.json')\n",
    "processor = DocumentProcessor(folder_path)\n",
    "processor.dump(output, indent=4, ensure_ascii=False)"
   ]
  },
  {
   "cell_type": "code",
   "execution_count": 6,
   "metadata": {},
   "outputs": [
    {
     "data": {
      "text/plain": [
       "'\\n{% extends \"base.html\" %}\\n{% block title %}a{% endblock %}\\n{% block head %}\\n  { super() }\\n{% endblock %}\\n{% block content %}\\n    <div id=\"app\"></div>\\n    <script type=\"module\" src=\"{ url_for(\\'static\\', filename=\\'js/j\\') }\"></script>\\n{% endblock %}\\n'"
      ]
     },
     "execution_count": 6,
     "metadata": {},
     "output_type": "execute_result"
    }
   ],
   "source": [
    "\"\"\"\n",
    "{{% extends \"base.html\" %}}\n",
    "{{% block title %}}{title}{{% endblock %}}\n",
    "{{% block head %}}\n",
    "  {{ super() }}\n",
    "{{% endblock %}}\n",
    "{{% block content %}}\n",
    "    <div id=\"app\"></div>\n",
    "    <script type=\"module\" src=\"{{ url_for('static', filename='js/{javascript}') }}\"></script>\n",
    "{{% endblock %}}\n",
    "\"\"\".format(title = 'a', javascript = 'j')"
   ]
  }
 ],
 "metadata": {
  "kernelspec": {
   "display_name": ".fiscrat",
   "language": "python",
   "name": "python3"
  },
  "language_info": {
   "codemirror_mode": {
    "name": "ipython",
    "version": 3
   },
   "file_extension": ".py",
   "mimetype": "text/x-python",
   "name": "python",
   "nbconvert_exporter": "python",
   "pygments_lexer": "ipython3",
   "version": "3.11.6"
  }
 },
 "nbformat": 4,
 "nbformat_minor": 2
}
